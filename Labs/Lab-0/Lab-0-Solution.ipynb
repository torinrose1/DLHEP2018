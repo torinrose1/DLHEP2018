{
 "cells": [
  {
   "cell_type": "markdown",
   "metadata": {},
   "source": [
    "# Applications of Deep Learning to High Energy Physics\n",
    "## Lab 0- Getting Started\n",
    "\n",
    "\n",
    "### Introduction- Jupyter Basics\n",
    "\n",
    "If you are seeing this page, you have successfully connected to our python server via ssh tunnel, logged in, and navigated to this notebook. Jupyter notebooks consist of cells that can hold text or code (usually python). This text that you are reading, was written into a text cell as simple text \"coding\" language known as mark-down. When a cell is run (either automatically at start of the notebook or manually by pressing shift-enter), the mark-down text is interpreted into nice looking text. Running a code cell will execute the code in that cell and give you the results. If you make a mistake, you can usually simply change the cell and re-run. But be aware that since you ran the mistaken cell already, whatever code that was properly executed before your mistake/error, was already executed and has therefore changed your current python environment accordingly. In some cases this situation will be problematic, and you will need to rerun the notebook from the start by pressing the \"reload\" botton (next to the \"stop\" button) above.\n",
    "\n",
    "### Python Overview\n",
    "\n",
    "Our first few labs are intended to try to force everyone to learn sufficient python, numpy, and HDF5 to perform some basic tasks. In this very first lab, we will introduce the fundamentals of python language. The following notebooks were copied from [github pages of Rajath Kumar](https://github.com/rajathkmp/Python-Lectures) from Indian Institute of Science, [License](https://creativecommons.org/licenses/by/3.0/). They provide a quick overview of basic python syntax. \n",
    "\n",
    "Carefully read through the following notebooks and familiarize yourself with python. Run the code cells (by pressing shift-enter when in the cell) in the notebooks and make sure you understand the output. \n",
    "\n",
    "   * [Variables, Operators, ...](Python-Lectures/01.ipynb)\n",
    "   * [Print Statements](Python-Lectures/02.ipynb)\n",
    "   * [Data Structures](Python-Lectures/03.ipynb)\n",
    "   * [Strings](Python-Lectures/04.ipynb)\n",
    "   * [Control Flow](Python-Lectures/05.ipynb)\n",
    "   * [Functions](Python-Lectures/06.ipynb)\n",
    "   * [Classes](Python-Lectures/07.ipynb)\n"
   ]
  },
  {
   "cell_type": "markdown",
   "metadata": {
    "collapsed": true
   },
   "source": [
    "### Reading Code\n",
    "\n",
    "Reading and understanding code written by others is an important part of learning to code yourself. Carefully read through these [python exercises](http://www.practicepython.org) and their solutions. Then as practice, pick 3 exercises and solve them in this notebook below. You will be asked next week to solve an exercise in class. \n",
    "\n"
   ]
  },
  {
   "cell_type": "markdown",
   "metadata": {},
   "source": [
    "### 1. Exercise (5) "
   ]
  },
  {
   "cell_type": "code",
   "execution_count": 4,
   "metadata": {},
   "outputs": [
    {
     "data": {
      "text/plain": [
       "{1, 2, 3, 5, 8, 13}"
      ]
     },
     "execution_count": 4,
     "metadata": {},
     "output_type": "execute_result"
    }
   ],
   "source": [
    "a = set([1,1,2,3,5,8,13,21,34,55,89])\n",
    "b = set([1,2,3,4,5,6,7,8,9,10,11,12,13])\n",
    "\n",
    "a.intersection(b)"
   ]
  },
  {
   "cell_type": "markdown",
   "metadata": {},
   "source": [
    "### 2. Exercise (8) "
   ]
  },
  {
   "cell_type": "code",
   "execution_count": 51,
   "metadata": {},
   "outputs": [
    {
     "name": "stdout",
     "output_type": "stream",
     "text": [
      "Enter your name player 1\tTorin\n",
      "Enter your name player 2\tPark\n",
      "Choose your weapon: rock, paper, or scissors\n",
      "rock\n",
      "Choose your weapon: rock, paper, or scissors\n",
      "rock\n",
      "Please choose a different weapon\n",
      "\n",
      "Choose your weapon: rock, paper, or scissors\n",
      "paper\n",
      "Choose your weapon: rock, paper, or scissors\n",
      "scissors\n",
      "Park wins!\n",
      "Play again?\tyes\n",
      "Choose your weapon: rock, paper, or scissors\n",
      "paper\n",
      "Choose your weapon: rock, paper, or scissors\n",
      "paper\n",
      "Please choose a different weapon\n",
      "\n",
      "Choose your weapon: rock, paper, or scissors\n",
      "scissors\n",
      "Choose your weapon: rock, paper, or scissors\n",
      "rock\n",
      "Park wins!\n",
      "Play again?\tno\n",
      "Thanks for playing\n"
     ]
    }
   ],
   "source": [
    "Challenger1 = {}\n",
    "Challenger2 = {}\n",
    "\n",
    "Challenger1[\"Name\"] = input ('Enter your name player 1\\t')\n",
    "Challenger2[\"Name\"] = input ('Enter your name player 2\\t')\n",
    "\n",
    "Challenger1[\"Weapon\"] = input('Choose your weapon: rock, paper, or scissors\\n')\n",
    "Challenger2[\"Weapon\"] = input('Choose your weapon: rock, paper, or scissors\\n')\n",
    "\n",
    "while Challenger1[\"Weapon\"] == Challenger2[\"Weapon\"]:\n",
    "    print ('Please choose a different weapon\\n')\n",
    "    Challenger1[\"Weapon\"] = input('Choose your weapon: rock, paper, or scissors\\n')\n",
    "    Challenger2[\"Weapon\"] = input('Choose your weapon: rock, paper, or scissors\\n')\n",
    "    \n",
    "def TheGauntlet(C1,C2):\n",
    "    if C1 == 'rock':\n",
    "        if C2 == 'paper':\n",
    "            return(\"%s wins!\" % Challenger2[\"Name\"])\n",
    "        else:\n",
    "            return(\"%s wins!\" % Challenger1[\"Name\"])\n",
    "    if C1 == 'paper':\n",
    "        if C2 == 'scissors':\n",
    "              return(\"%s wins!\" % Challenger2[\"Name\"])\n",
    "        else:\n",
    "            return(\"%s wins!\" % Challenger1[\"Name\"])\n",
    "    if C1 == 'scissors':\n",
    "            if C2 == 'rock':\n",
    "                  return(\"%s wins!\" % Challenger2[\"Name\"])\n",
    "            else:\n",
    "                return(\"%s wins!\" % Challenger1[\"Name\"])\n",
    "    \n",
    "print (TheGauntlet(Challenger1[\"Weapon\"],Challenger2[\"Weapon\"]))\n",
    "\n",
    "while input(\"Play again?\\t\") == 'yes':\n",
    "    Challenger1[\"Weapon\"] = input('Choose your weapon: rock, paper, or scissors\\n')\n",
    "    Challenger2[\"Weapon\"] = input('Choose your weapon: rock, paper, or scissors\\n')\n",
    "    while Challenger1[\"Weapon\"] == Challenger2[\"Weapon\"]:\n",
    "        print ('Please choose a different weapon\\n')\n",
    "        Challenger1[\"Weapon\"] = input('Choose your weapon: rock, paper, or scissors\\n')\n",
    "        Challenger2[\"Weapon\"] = input('Choose your weapon: rock, paper, or scissors\\n')\n",
    "    print (TheGauntlet(Challenger1[\"Weapon\"],Challenger2[\"Weapon\"]))\n",
    "else:\n",
    "        print (\"Thanks for playing\")"
   ]
  },
  {
   "cell_type": "markdown",
   "metadata": {},
   "source": [
    "### 3. Exercise (13) "
   ]
  },
  {
   "cell_type": "code",
   "execution_count": 74,
   "metadata": {},
   "outputs": [
    {
     "name": "stdout",
     "output_type": "stream",
     "text": [
      "Enter the number of Fibonacci numbers you would like to generate\n",
      "10\n"
     ]
    },
    {
     "data": {
      "text/plain": [
       "[1, 1, 2, 3, 5, 8, 13, 21, 34, 55]"
      ]
     },
     "execution_count": 74,
     "metadata": {},
     "output_type": "execute_result"
    }
   ],
   "source": [
    "def Fibonacci(x):\n",
    "    if x == 0:\n",
    "        return 1\n",
    "    if x == 1:\n",
    "        return 1\n",
    "    else:\n",
    "        return Fibonacci(x-2)+Fibonacci(x-1)\n",
    "numbers = []\n",
    "Iterations = int(input(\"Enter the number of Fibonacci numbers you would like to generate\\n\"))\n",
    "for i in range(0, Iterations):\n",
    "    numbers.append(Fibonacci(i))\n",
    "    \n",
    "numbers"
   ]
  },
  {
   "cell_type": "markdown",
   "metadata": {},
   "source": [
    "### Test Yourself\n",
    "\n",
    "Write a function that takes in a string and determines the number of unique words (ignoring capitalization and punctuation) and returns an dictionary where the key of each entry is the word and the value is the number of times the word appears in the string. Demonstrate that your function works by applying it to the introduction paragraph above."
   ]
  },
  {
   "cell_type": "code",
   "execution_count": 2,
   "metadata": {},
   "outputs": [
    {
     "name": "stdout",
     "output_type": "stream",
     "text": [
      "Enter the text you would like analyzed\n",
      "hi hi Hi\n",
      "{'Hi': 3}\n"
     ]
    }
   ],
   "source": [
    "def PunctuationKiller(Letter):\n",
    "    Punctuation = ['.',',','\"','(',')']\n",
    "    if Letter not in Punctuation:\n",
    "        return Letter\n",
    "    else:\n",
    "        return \"\"\n",
    "    \n",
    "def Capitalization(string):\n",
    "    return string.capitalize()\n",
    "\n",
    "FilteredWord = []\n",
    "a = {}\n",
    "text = input(\"Enter the text you would like analyzed\\n\")\n",
    "words = text.split()\n",
    "for word in words[:]:\n",
    "    reconstruct = []\n",
    "    Filter = list(word)\n",
    "    for character in Filter:\n",
    "        reconstruct.append(PunctuationKiller(character))\n",
    "    FilteredWord.append(''.join(reconstruct))\n",
    "    for i in range(0,len(FilteredWord)):\n",
    "        FilteredWord[i] = Capitalization(FilteredWord[i])\n",
    "    \n",
    "for word in FilteredWord[:]:\n",
    "    while word in FilteredWord[:]:\n",
    "        count = FilteredWord.count(word)\n",
    "        a[word] = count\n",
    "        while word in FilteredWord[:]:\n",
    "            FilteredWord.remove(word)\n",
    "print(a)"
   ]
  },
  {
   "cell_type": "code",
   "execution_count": 17,
   "metadata": {},
   "outputs": [
    {
     "name": "stdout",
     "output_type": "stream",
     "text": [
      "Enter a number to test\t576\n",
      "576 is not a prime number.\n",
      "It is divisible by : [2, 3, 4, 6, 8, 9, 12, 16, 18, 24, 32, 36, 48, 64, 72, 96, 144, 192, 288]\n"
     ]
    }
   ],
   "source": [
    "Divisibles = []\n",
    "Number = int(input(\"Enter a number to test\\t\"))\n",
    "for i in range(2, (Number-1)):\n",
    "    Division = Number%i\n",
    "    if Division == 0:\n",
    "        Divisibles.append(i)\n",
    "\n",
    "if Divisibles == []:\n",
    "    print('%d is a prime number' %Number)\n",
    "else:\n",
    "    print('%d is not a prime number.\\nIt is divisible by : %s' % (Number, Divisibles))"
   ]
  }
 ],
 "metadata": {
  "kernelspec": {
   "display_name": "Python 3",
   "language": "python",
   "name": "python3"
  },
  "language_info": {
   "codemirror_mode": {
    "name": "ipython",
    "version": 3
   },
   "file_extension": ".py",
   "mimetype": "text/x-python",
   "name": "python",
   "nbconvert_exporter": "python",
   "pygments_lexer": "ipython3",
   "version": "3.5.2"
  }
 },
 "nbformat": 4,
 "nbformat_minor": 2
}
